{
  "nbformat": 4,
  "nbformat_minor": 2,
  "metadata": {
    "colab": {
      "name": "labOrga.ipynb",
      "provenance": []
    },
    "kernelspec": {
      "name": "python3",
      "display_name": "Python 3.6.5 64-bit"
    },
    "language_info": {
      "name": "python",
      "version": "3.6.5",
      "mimetype": "text/x-python",
      "codemirror_mode": {
        "name": "ipython",
        "version": 3
      },
      "pygments_lexer": "ipython3",
      "nbconvert_exporter": "python",
      "file_extension": ".py"
    },
    "interpreter": {
      "hash": "662010c092d7c008ceab338d59cdeb534200ca419f4cd40bb8d8d0aae27929f3"
    }
  },
  "cells": [
    {
      "cell_type": "markdown",
      "source": [
        "Lab N°4 Orga, Simulador de Caché"
      ],
      "metadata": {}
    },
    {
      "cell_type": "code",
      "execution_count": null,
      "source": [],
      "outputs": [],
      "metadata": {}
    },
    {
      "cell_type": "code",
      "execution_count": null,
      "source": [
        "import math\r\n",
        "#Definicion de la Clase Bloque\r\n",
        "class Bloque:\r\n",
        "    def __init__(self, instruccionActual, tamano_bloque, direccion):\r\n",
        "        self.tamano = tamano_bloque\r\n",
        "        self.ultimoAcceso = instruccionActual\r\n",
        "        self.direccion = direccion\r\n",
        "\r\n",
        "    def escribir(self, instruccionActual):\r\n",
        "        self.ultimoAcceso = instruccionActual\r\n",
        "\r\n",
        "    def leer(self, instruccionActual):\r\n",
        "        self.ultimoAcceso = instruccionActual\r\n",
        "\r\n",
        "#Definicion de la Clase Cache\r\n",
        "class Cache:\r\n",
        "    def __init__(self, nombre, tamano_palabra, tamano_bloque, num_bloques, asociatividad, tiempo_acceso, siguiente_nivelCache=None):\r\n",
        "        self.nombre = nombre\r\n",
        "        self.tamano_palabra = tamano_palabra\r\n",
        "        self.tamano_bloque = tamano_bloque\r\n",
        "        self.num_bloques = num_bloques\r\n",
        "        self.asociatividad = asociatividad\r\n",
        "        self.tiempo_acceso = tiempo_acceso\r\n",
        "\r\n",
        "        #Se calcula el numero de conjuntos que tendra esta cache\r\n",
        "        self.numero_conjuntos = num_bloques / asociatividad\r\n",
        "        #Los datos de la cache estaran en una tabla hash\r\n",
        "        self.datos = {}\r\n",
        "        #A continuacion se apunta la cache al proximo nivel de cache inferior\r\n",
        "        self.siguiente_nivelCache = siguiente_nivelCache #En el caso de la memoria princicipal, tendra el valor de None\r\n",
        "\r\n",
        "        #La direccion esta dada por los valores de [tag|indice|offset]\r\n",
        "        #Se calcula el tamaño del offset de la cache\r\n",
        "        self.tamano_offset_bloque  = int(math.log(self.tamano_bloque,2))\r\n",
        "        #Se calcula el tamaño del indice de la cache\r\n",
        "        self.tamano_indice = int(math.log(self.num_bloques, 2))\r\n",
        "\r\n",
        "        #Se inicializan los datos en la tabla hash\r\n",
        "        if siguiente_nivelCache != None: #Si esta no es la memoria principal\r\n",
        "            for i in range(0,self.numero_conjuntos):\r\n",
        "                #Transforma el entero i en un binario, se usa [2:] para omitir la notacion 0b que resulta al usar la funcion bin, zfill llena de 0 lo restante para cumplir con el formato del tamaño del indice\r\n",
        "                indice  = str(bin(i))[2:].zfill(self.tamano_indice)\r\n",
        "                # En caso que el indice no exista, se le asigna un cero\r\n",
        "                if indice == \"\":\r\n",
        "                    indice = \"0\"\r\n",
        "                \r\n",
        "                #Se crea una nueva tabla hash para cada conjunto, aca se almacenaran los bloques\r\n",
        "                self.datos[indice] = {}\r\n"
      ],
      "outputs": [],
      "metadata": {}
    },
    {
      "cell_type": "code",
      "execution_count": 23,
      "source": [
        "import yaml\r\n",
        "#Leyendo archivo de configuracion\r\n",
        "archivo_yaml = open(\"config.yaml\", \"r\")\r\n",
        "datos_configuracion = yaml.safe_load(archivo_yaml)\r\n",
        "\"\"\"\r\n",
        "print(\"printeando todo:  \", datos_configuracion)\r\n",
        "print(datos_configuracion[\"cache_1\"], \"mu\")\r\n",
        "print(datos_configuracion[\"cache_1\"][\"bloques\"])\r\n",
        "\"\"\""
      ],
      "outputs": [
        {
          "output_type": "execute_result",
          "data": {
            "text/plain": [
              "'\\nprint(\"printeando todo:  \", datos_configuracion)\\nprint(datos_configuracion[\"cache_1\"], \"mu\")\\nprint(datos_configuracion[\"cache_1\"][\"bloques\"])\\n'"
            ]
          },
          "metadata": {},
          "execution_count": 23
        }
      ],
      "metadata": {}
    },
    {
      "cell_type": "code",
      "execution_count": 35,
      "source": [
        "#Leer traza\r\n",
        "archivoTraza = open(\"traza.txt\", \"r\")\r\n",
        "#Se leen todas las intrucciones en una lista\r\n",
        "traza = archivoTraza.read().splitlines()\r\n",
        "#print(traza[0].split(\",\"))"
      ],
      "outputs": [
        {
          "output_type": "stream",
          "name": "stdout",
          "text": [
            "['26c1ff40', ' R']\n"
          ]
        }
      ],
      "metadata": {}
    }
  ]
}